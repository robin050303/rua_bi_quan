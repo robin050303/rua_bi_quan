{
 "cells": [
  {
   "cell_type": "code",
   "execution_count": null,
   "id": "8048f0e3",
   "metadata": {},
   "outputs": [],
   "source": [
    "import turtle\n",
    "import random as r\n",
    "turtle = turtle.Turtle()\n",
    "turtle.hideturtle()\n",
    "turtle.penup()\n",
    "turtle.goto(0, -200)\n",
    "turtle.speed(10)\n",
    "turtle.pensize(10)\n",
    "turtle.pencolor(\"black\")\n",
    "turtle.pendown()\n",
    "turtle.circle(200)\n",
    "turtle.penup()\n",
    "turtle.speed(10)\n",
    "turtle.shape(\"turtle\")\n",
    "turtle.pencolor('green')\n",
    "turtle.goto(0, 0)\n",
    "angle = random.randint(0, 360)\n",
    "turtle.right(angle)\n",
    "turtle.showturtle()\n",
    "count = 0\n",
    "while True:\n",
    "    turtle.speed(1)\n",
    "    turtle.forward(88)\n",
    "    turtle.hideturtle()\n",
    "    turtle.speed(10)\n",
    "    turtle.goto(0, 0)\n",
    "    angle = random.randint(0, 360)\n",
    "    turtle.right(angle)\n",
    "    turtle.showturtle()\n",
    "    count += 1\n",
    "    if count == 10:\n",
    "        break\n",
    "turtle.done()"
   ]
  },
  {
   "cell_type": "code",
   "execution_count": null,
   "id": "f9e863d8",
   "metadata": {},
   "outputs": [],
   "source": []
  }
 ],
 "metadata": {
  "kernelspec": {
   "display_name": "Python 3 (ipykernel)",
   "language": "python",
   "name": "python3"
  },
  "language_info": {
   "codemirror_mode": {
    "name": "ipython",
    "version": 3
   },
   "file_extension": ".py",
   "mimetype": "text/x-python",
   "name": "python",
   "nbconvert_exporter": "python",
   "pygments_lexer": "ipython3",
   "version": "3.9.5"
  }
 },
 "nbformat": 4,
 "nbformat_minor": 5
}
